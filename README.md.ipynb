{
 "cells": [
  {
   "cell_type": "markdown",
   "id": "a26c6227",
   "metadata": {},
   "source": [
    "ROI Calculator:\n",
    "This ROI Calculator program allows one to calculate their ROI by inputing their income, expenses, and investment costs from the property. The ROI calculator will handle the rest by calculating the expenses, total investment costs, cash flow, annual cash flow, and ROI!\n",
    "\n",
    "The following source was used:\n",
    "https://pytutorial.com/using-variable-from-other-functions-python/\n",
    "\n",
    "With this source. I learned how to make a variable global throughout a class using 'global <variable_name> before defining the variable."
   ]
  }
 ],
 "metadata": {
  "kernelspec": {
   "display_name": "Python 3 (ipykernel)",
   "language": "python",
   "name": "python3"
  },
  "language_info": {
   "codemirror_mode": {
    "name": "ipython",
    "version": 3
   },
   "file_extension": ".py",
   "mimetype": "text/x-python",
   "name": "python",
   "nbconvert_exporter": "python",
   "pygments_lexer": "ipython3",
   "version": "3.9.13"
  }
 },
 "nbformat": 4,
 "nbformat_minor": 5
}
